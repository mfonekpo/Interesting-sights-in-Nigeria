{
 "cells": [
  {
   "cell_type": "code",
   "execution_count": 1,
   "metadata": {},
   "outputs": [],
   "source": [
    "import pandas as pd\n",
    "import numpy as np\n",
    "import matplotlib.pyplot as plt\n",
    "import seaborn as sns\n",
    "from bs4 import BeautifulSoup as bs\n",
    "import selenium\n",
    "from selenium import webdriver\n",
    "from selenium.webdriver.common import keys\n",
    "import re\n",
    "import requests as rs\n",
    "import time"
   ]
  },
  {
   "cell_type": "code",
   "execution_count": 2,
   "metadata": {},
   "outputs": [],
   "source": [
    "firefox_driver_path = \"/home/royale/Documents/py/jupyter/webscraping projects/Selenium projects/webdrivers/geckodriver\"\n",
    "chrome_driver_path = \"/home/royale/Documents/py/jupyter/webscraping projects/Selenium projects/webdrivers/chromedriver\""
   ]
  },
  {
   "cell_type": "code",
   "execution_count": 4,
   "metadata": {},
   "outputs": [],
   "source": [
    "hotels_ng_url = \"https://hotels.ng/places/nigeria-1\""
   ]
  },
  {
   "cell_type": "code",
   "execution_count": 25,
   "metadata": {},
   "outputs": [
    {
     "name": "stdout",
     "output_type": "stream",
     "text": [
      "\n"
     ]
    }
   ],
   "source": [
    "browser = webdriver.Chrome(executable_path = chrome_driver_path)\n",
    "browser.get(hotels_ng_url)\n",
    "\n",
    "places_holder = browser.find_elements_by_class_name(\"add-margin-bottom\")\n",
    "for places in places_holder:\n",
    "    places_tags = browser.find_element_by_tag_name(\"span\")\n",
    "    print(places_tags.text)\n",
    "\n",
    "#     browser.find_element_by_xpath(\"//*[@id='pagintaion']/li[11]/a/span\").click()"
   ]
  },
  {
   "cell_type": "code",
   "execution_count": 27,
   "metadata": {},
   "outputs": [
    {
     "data": {
      "text/plain": [
       "''"
      ]
     },
     "execution_count": 27,
     "metadata": {},
     "output_type": "execute_result"
    }
   ],
   "source": [
    "places_tags.text"
   ]
  },
  {
   "cell_type": "code",
   "execution_count": null,
   "metadata": {},
   "outputs": [],
   "source": []
  }
 ],
 "metadata": {
  "kernelspec": {
   "display_name": "Python 3",
   "language": "python",
   "name": "python3"
  },
  "language_info": {
   "codemirror_mode": {
    "name": "ipython",
    "version": 3
   },
   "file_extension": ".py",
   "mimetype": "text/x-python",
   "name": "python",
   "nbconvert_exporter": "python",
   "pygments_lexer": "ipython3",
   "version": "3.8.5"
  }
 },
 "nbformat": 4,
 "nbformat_minor": 4
}
